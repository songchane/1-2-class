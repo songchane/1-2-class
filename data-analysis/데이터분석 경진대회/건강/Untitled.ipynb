{
 "cells": [
  {
   "cell_type": "code",
   "execution_count": 9,
   "id": "f0605fb0",
   "metadata": {},
   "outputs": [
    {
     "name": "stdout",
     "output_type": "stream",
     "text": [
      "<_csv.reader object at 0x000002066B541280>\n",
      "<_csv.reader object at 0x000002066B541280>\n",
      "<_csv.reader object at 0x000002066B541280>\n",
      "<_csv.reader object at 0x000002066B541280>\n",
      "<_csv.reader object at 0x000002066B541280>\n",
      "<_csv.reader object at 0x000002066B541280>\n",
      "<_csv.reader object at 0x000002066B541280>\n",
      "<_csv.reader object at 0x000002066B541280>\n",
      "<_csv.reader object at 0x000002066B541280>\n",
      "<_csv.reader object at 0x000002066B541280>\n",
      "<_csv.reader object at 0x000002066B541280>\n",
      "<_csv.reader object at 0x000002066B541280>\n",
      "<_csv.reader object at 0x000002066B541280>\n",
      "<_csv.reader object at 0x000002066B541280>\n",
      "<_csv.reader object at 0x000002066B541280>\n"
     ]
    }
   ],
   "source": [
    "import csv\n",
    "\n",
    "f = open('2020 연령별 최종.csv')\n",
    "data = csv.reader(f)\n",
    "\n",
    "h = next(data)\n",
    "result = []\n",
    "\n",
    "for row[1] in data:\n",
    "    print(data)\n",
    "    \n",
    "    \n",
    "f.close()"
   ]
  },
  {
   "cell_type": "code",
   "execution_count": null,
   "id": "a556d841",
   "metadata": {},
   "outputs": [],
   "source": []
  }
 ],
 "metadata": {
  "kernelspec": {
   "display_name": "Python 3 (ipykernel)",
   "language": "python",
   "name": "python3"
  },
  "language_info": {
   "codemirror_mode": {
    "name": "ipython",
    "version": 3
   },
   "file_extension": ".py",
   "mimetype": "text/x-python",
   "name": "python",
   "nbconvert_exporter": "python",
   "pygments_lexer": "ipython3",
   "version": "3.9.12"
  }
 },
 "nbformat": 4,
 "nbformat_minor": 5
}
